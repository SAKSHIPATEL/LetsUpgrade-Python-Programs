{
 "cells": [
  {
   "cell_type": "markdown",
   "metadata": {},
   "source": [
    "# Ques1"
   ]
  },
  {
   "cell_type": "code",
   "execution_count": 1,
   "metadata": {},
   "outputs": [
    {
     "name": "stdout",
     "output_type": "stream",
     "text": [
      "Sakshi patel\n",
      "b'sakshi patel'\n",
      "True\n",
      "True\n",
      "False\n",
      "['sakshi', 'patel']\n",
      "Sakshi Patel\n"
     ]
    }
   ],
   "source": [
    "name=\"sakshi patel\"\n",
    "\n",
    "print(name.capitalize())\n",
    "print(name.encode())\n",
    "print(name.islower())\n",
    "print(name.isprintable())\n",
    "print(name.istitle())\n",
    "print(name.split())\n",
    "print(name.title())"
   ]
  },
  {
   "cell_type": "markdown",
   "metadata": {},
   "source": [
    "# Ques2"
   ]
  },
  {
   "cell_type": "code",
   "execution_count": 2,
   "metadata": {},
   "outputs": [
    {
     "name": "stdout",
     "output_type": "stream",
     "text": [
      "['Sakshi', 50, 63.2, 'Jay', 78, 90.6, 'ray']\n",
      "['Sakshi', 50, 'Jay', 78, 90.6, 'ray']\n",
      "['Sakshi', 50, 'Jay', 78, 90.6, 'ray']\n",
      "['ray', 90.6, 78, 'Jay', 50, 'Sakshi']\n",
      "['ray', 90.6, 'Jay', 50, 'Sakshi']\n"
     ]
    }
   ],
   "source": [
    "l1=['Sakshi',50,63.2,'Jay',78,90.6]\n",
    "l1.append('ray')\n",
    "print(l1)\n",
    "l1.pop(2)\n",
    "print(l1)\n",
    "print(l1.copy())\n",
    "l1.reverse()\n",
    "print(l1)\n",
    "l1.remove(78)\n",
    "print(l1)"
   ]
  },
  {
   "cell_type": "markdown",
   "metadata": {},
   "source": [
    "# Ques3"
   ]
  },
  {
   "cell_type": "code",
   "execution_count": 3,
   "metadata": {},
   "outputs": [
    {
     "name": "stdout",
     "output_type": "stream",
     "text": [
      "Jay Veer\n",
      "dict_keys(['Name', 'Age', 'Salary', 'DOB'])\n",
      "{'Name': 'Jay Veer', 'Age': 50, 'Salary': 100000, 'DOB': -1987}\n",
      "{'Name': 'Jay Veer', 'Age': 50, 'Salary': 100000, 'DOB': -1987, 'Profession': 'Actor'}\n",
      "dict_items([('Name', 'Jay Veer'), ('Age', 50), ('Salary', 100000), ('DOB', -1987), ('Profession', 'Actor')])\n",
      "{'Name': 'Jay Veer', 'Age': 50, 'Salary': 100000, 'DOB': -1987}\n"
     ]
    }
   ],
   "source": [
    "dict={'Name':'Jay Veer','Age':50,'Salary':100000,'DOB':13-8-1992}\n",
    "print(dict.get('Name'))\n",
    "print(dict.keys())\n",
    "print(dict.copy())\n",
    "dict.update({'Profession':'Actor'})\n",
    "print(dict)\n",
    "print(dict.items())\n",
    "dict.popitem()\n",
    "print(dict)"
   ]
  },
  {
   "cell_type": "code",
   "execution_count": null,
   "metadata": {},
   "outputs": [],
   "source": []
  }
 ],
 "metadata": {
  "kernelspec": {
   "display_name": "Python 3",
   "language": "python",
   "name": "python3"
  },
  "language_info": {
   "codemirror_mode": {
    "name": "ipython",
    "version": 3
   },
   "file_extension": ".py",
   "mimetype": "text/x-python",
   "name": "python",
   "nbconvert_exporter": "python",
   "pygments_lexer": "ipython3",
   "version": "3.8.5"
  }
 },
 "nbformat": 4,
 "nbformat_minor": 4
}
